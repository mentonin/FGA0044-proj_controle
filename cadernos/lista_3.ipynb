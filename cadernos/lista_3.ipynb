{
 "cells": [
  {
   "cell_type": "markdown",
   "source": [
    "# Setup"
   ],
   "metadata": {}
  },
  {
   "cell_type": "code",
   "execution_count": 1,
   "source": [
    "import numpy as np\r\n",
    "import control\r\n",
    "\r\n",
    "np.set_printoptions(precision=4)\r\n"
   ],
   "outputs": [],
   "metadata": {}
  },
  {
   "cell_type": "markdown",
   "source": [
    "# Lista 2"
   ],
   "metadata": {}
  },
  {
   "cell_type": "markdown",
   "source": [
    "## Condições do problema"
   ],
   "metadata": {}
  },
  {
   "cell_type": "code",
   "execution_count": 2,
   "source": [
    "# Modelo da Planta\r\n",
    "# x_ = A @ x + B @ d\r\n",
    "\r\n",
    "A = np.array([[-4.1172, 0.7781, 0.0], [-33.8836, -3.5729, 0.0], [0.0, 1.0, 0.0]])\r\n",
    "\r\n",
    "B = np.array([[0.5435, -39.0847, 0.0]]).T\r\n",
    "\r\n",
    "x0 = np.array([[0.5, 0, -0.1]]).T\r\n",
    "\r\n",
    "print(\"A:\")\r\n",
    "print(A)\r\n",
    "print()\r\n",
    "\r\n",
    "print(\"B:\")\r\n",
    "print(B)\r\n",
    "print()\r\n",
    "\r\n",
    "print(\"x0:\")\r\n",
    "print(x0)\r\n"
   ],
   "outputs": [
    {
     "output_type": "stream",
     "name": "stdout",
     "text": [
      "A:\n",
      "[[ -4.1172   0.7781   0.    ]\n",
      " [-33.8836  -3.5729   0.    ]\n",
      " [  0.       1.       0.    ]]\n",
      "\n",
      "B:\n",
      "[[  0.5435]\n",
      " [-39.0847]\n",
      " [  0.    ]]\n",
      "\n",
      "x0:\n",
      "[[ 0.5]\n",
      " [ 0. ]\n",
      " [-0.1]]\n"
     ]
    }
   ],
   "metadata": {}
  },
  {
   "cell_type": "markdown",
   "source": [
    "## Quais  são  os  autovalores  de  A?  O  sistema  é  estável,  instável  ou marginalmente estável? Subamortecido ou superamortecido?"
   ],
   "metadata": {}
  },
  {
   "cell_type": "code",
   "execution_count": 3,
   "source": [
    "# Autovalores de A\r\n",
    "eigvals = np.linalg.eigvals(A)\r\n",
    "print(\"polos:\")\r\n",
    "print(np.reshape(eigvals, (3, 1)))\r\n"
   ],
   "outputs": [
    {
     "output_type": "stream",
     "name": "stdout",
     "text": [
      "polos:\n",
      "[[ 0.    +0.j    ]\n",
      " [-3.8451+5.1275j]\n",
      " [-3.8451-5.1275j]]\n"
     ]
    }
   ],
   "metadata": {}
  },
  {
   "cell_type": "markdown",
   "source": [
    "Sistema marginalmente estável (2 polos no semiplano negativo e um polo na origem);\r\n",
    "\r\n",
    "Sistema subamortecido (par de polos complexos)."
   ],
   "metadata": {}
  },
  {
   "cell_type": "markdown",
   "source": [
    "## O sistema é controlável ou não? Justifique."
   ],
   "metadata": {}
  },
  {
   "cell_type": "code",
   "execution_count": 4,
   "source": [
    "# Matriz de controlabilidade\r\n",
    "R = np.hstack([B, A @ B, A @ A @ B])\r\n",
    "print(np.linalg.matrix_rank(R) == A.shape[1])\r\n"
   ],
   "outputs": [
    {
     "output_type": "stream",
     "name": "stdout",
     "text": [
      "True\n"
     ]
    }
   ],
   "metadata": {}
  },
  {
   "cell_type": "markdown",
   "source": [
    "Sistema completamente controlável, pois o rank da matriz de controlabilidade é igual ao número de estados."
   ],
   "metadata": {}
  },
  {
   "cell_type": "markdown",
   "source": [
    "## Modele o sistema dinâmico no Simulink (MATLAB), Xcos (Scilab), ou similares"
   ],
   "metadata": {}
  },
  {
   "cell_type": "markdown",
   "source": [
    "Diagrama do sistema (em verde) e sistema de simulação implementado no software xcos (scilab). Em todos os modelos desse documento, os valores do projeto foram calculados utilizando o código desse documento e copiados para o modelo no software xcos conforme necessário."
   ],
   "metadata": {}
  },
  {
   "cell_type": "markdown",
   "source": [
    "![](./lista_2/diagramas/Planta.svg)"
   ],
   "metadata": {}
  },
  {
   "cell_type": "markdown",
   "source": [
    "## Simule o sistema nos seguintes casos"
   ],
   "metadata": {}
  },
  {
   "cell_type": "markdown",
   "source": [
    "### Entrada Nula"
   ],
   "metadata": {}
  },
  {
   "cell_type": "markdown",
   "source": [
    "A imagem abaixo apresenta a simulação da resposta no tempo do sistema para entrada nula.\r\n",
    "\r\n",
    "Nesse e em todos os próximos gráficos de resposta no tempo nesse documento, a linha laranja no gráfico superior representa a entrada na planta $\\delta$ (chamada de d no gráfico por limitações do software), enquanto as linhas verde, azul e ciano, respectivamente, representam os estados $\\alpha$, $q$, e $\\theta$ no gráfico de baixo. O eixo horizontal em todos os gráficos vai de 0 a 10 segundos, enquanto o eixo vertical foi ajustado automaticamente para destacar os detalhes do gráfico. Comparações de magnitude dever ser feitas com observação cuidadosa da escala de cada gráfico"
   ],
   "metadata": {}
  },
  {
   "cell_type": "markdown",
   "source": [
    "![](./lista_2/graficos/4a.svg)"
   ],
   "metadata": {}
  },
  {
   "cell_type": "markdown",
   "source": [
    "### Entrada degrau de 0.1 rad"
   ],
   "metadata": {}
  },
  {
   "cell_type": "markdown",
   "source": [
    "![](./lista_2/graficos/4b.svg)"
   ],
   "metadata": {}
  },
  {
   "cell_type": "markdown",
   "source": [
    "## Projete um regulador via alocação de polos (ou seja, calcule o vetor 𝑲) que forneça um sistema com as seguintes características de malha fechada\r\n",
    "- Sobressinal de 20%\r\n",
    "- Tempo de pico de 1 segundo"
   ],
   "metadata": {}
  },
  {
   "cell_type": "code",
   "execution_count": 5,
   "source": [
    "# Escolha de polos\r\n",
    "tp = 1\r\n",
    "PO = 0.20\r\n",
    "\r\n",
    "wd = np.pi * tp\r\n",
    "sigma = -abs(wd * np.log(0.2) / np.pi)\r\n",
    "\r\n",
    "print(f\"wd: {wd}\")\r\n",
    "print(f\"sigma: {sigma}\")\r\n"
   ],
   "outputs": [
    {
     "output_type": "stream",
     "name": "stdout",
     "text": [
      "wd: 3.141592653589793\n",
      "sigma: -1.6094379124341\n"
     ]
    }
   ],
   "metadata": {}
  },
  {
   "cell_type": "code",
   "execution_count": 6,
   "source": [
    "# Ganho do feedback completo\r\n",
    "K = control.place(A, B, (sigma + wd * 1j, sigma - wd * 1j, 10 * sigma))\r\n",
    "print(\"K:\")\r\n",
    "print(K)\r\n"
   ],
   "outputs": [
    {
     "output_type": "stream",
     "name": "stdout",
     "text": [
      "K:\n",
      "[[ 2.3849 -0.2642 -1.1182]]\n"
     ]
    }
   ],
   "metadata": {}
  },
  {
   "cell_type": "code",
   "execution_count": 7,
   "source": [
    "# Autovalores resultantes (conferir alocação)\r\n",
    "eigvals = np.linalg.eigvals(A - B @ K)\r\n",
    "print(\"polos:\")\r\n",
    "print(np.reshape(eigvals, (3, 1)))\r\n"
   ],
   "outputs": [
    {
     "output_type": "stream",
     "name": "stdout",
     "text": [
      "polos:\n",
      "[[-16.0944+0.j    ]\n",
      " [ -1.6094+3.1416j]\n",
      " [ -1.6094-3.1416j]]\n"
     ]
    }
   ],
   "metadata": {}
  },
  {
   "cell_type": "markdown",
   "source": [
    "## Implemente a alocação de polos no Simulink (MATLAB), Xcos (Scilab), ou similares. Assuma  inicialmente  que  o  controlador  tem  acesso  ao  vetor  de  estados  completo.  Inclua imagem(ns) do controlador construído."
   ],
   "metadata": {}
  },
  {
   "cell_type": "markdown",
   "source": [
    "Diagrama do controlador (em amarelo) conectado à planta (em verde)"
   ],
   "metadata": {}
  },
  {
   "cell_type": "markdown",
   "source": [
    "![](./lista_2/diagramas/FSF.svg)"
   ],
   "metadata": {}
  },
  {
   "cell_type": "markdown",
   "source": [
    "### Simule o sistema com entrada nula"
   ],
   "metadata": {}
  },
  {
   "cell_type": "markdown",
   "source": [
    "![](./lista_2/graficos/6a.svg)"
   ],
   "metadata": {}
  },
  {
   "cell_type": "markdown",
   "source": [
    "### Simule o sistema com entrada degrau de 0.1 rad"
   ],
   "metadata": {}
  },
  {
   "cell_type": "markdown",
   "source": [
    "![](./lista_2/graficos/6b.svg)"
   ],
   "metadata": {}
  },
  {
   "cell_type": "markdown",
   "source": [
    "O valor de sobressinal e o tempo de pico desejados não podem ser observados nos gráficos, pois as condições iniciais dominam o sistema durante o início da resposta transiente (os valores iniciais são muito maiores que a entrada). O sistema também manteve a estabilidade de $\\alpha$ e $q$, mas agora com $\\theta$ estável, não mais marginalmente estável. uma entrada degrau agora desloca $\\theta$, não $q$ e $\\alpha$, para um degrau;"
   ],
   "metadata": {}
  },
  {
   "cell_type": "markdown",
   "source": [
    "## Altere controlador para que se transforme em um rastreador com erro ao degrau nulo  em  regime  permanente.  O  sinal  de  entrada  define  o  ângulo  de  arfagem  𝜃  desejado."
   ],
   "metadata": {}
  },
  {
   "cell_type": "markdown",
   "source": [
    "O modelo de rastreador é uma modificação simples do modelo anterior, adicionando apenas um ganho proporcional $G$ à entrada de referência $r$. O diagrama completo pode ser visto na imagem abaixo, enquanto o cálculo do ganho é realizado em código python."
   ],
   "metadata": {}
  },
  {
   "cell_type": "markdown",
   "source": [
    "![](./lista_2/diagramas/fsf_g.svg)"
   ],
   "metadata": {}
  },
  {
   "cell_type": "code",
   "execution_count": 8,
   "source": [
    "# Função para calcular o ganho proporcional\r\n",
    "def gain_scale(k, a, b, c):\r\n",
    "    \"\"\"\r\n",
    "    Calcula o ganho proporcional da referência para um rastreador com feedback completo\r\n",
    "\r\n",
    "    Modelo:\r\n",
    "    dx = Ax + Bu\r\n",
    "    y  = Cx\r\n",
    "    u = Gr - Kx\r\n",
    "\r\n",
    "    Método:\r\n",
    "    https://www.control.utoronto.ca/people/profs/kwong/ece410/2008/notes/chap5.pdf\r\n",
    "    G = [K I] * [[A B], [C 0]]^(-1) * [0 I]'\r\n",
    "    \"\"\"\r\n",
    "\r\n",
    "    o = np.zeros_like(c).T\r\n",
    "    i = np.eye(c.shape[0])\r\n",
    "\r\n",
    "    m1 = np.block([k, i])\r\n",
    "    m2 = np.linalg.inv(np.block([[a, b], [c, 0 * i]]))\r\n",
    "    m3 = np.block([[o], [i]])\r\n",
    "\r\n",
    "    g = m1 @ m2 @ m3\r\n",
    "    return g\r\n"
   ],
   "outputs": [],
   "metadata": {}
  },
  {
   "cell_type": "code",
   "execution_count": 9,
   "source": [
    "# Encontra o ganho proporcional\r\n",
    "C = np.array([[0, 0, 1]])  # Rastreia theta\r\n",
    "G = gain_scale(K, A, B, np.array([[0, 0, 1]]))\r\n",
    "print(\"G:\")\r\n",
    "print(G)\r\n"
   ],
   "outputs": [
    {
     "output_type": "stream",
     "name": "stdout",
     "text": [
      "G:\n",
      "[[-1.1182]]\n"
     ]
    }
   ],
   "metadata": {}
  },
  {
   "cell_type": "markdown",
   "source": [
    "### Simule o sistema com entrada nula"
   ],
   "metadata": {}
  },
  {
   "cell_type": "markdown",
   "source": [
    "![](./lista_2/graficos/7a.svg)"
   ],
   "metadata": {}
  },
  {
   "cell_type": "markdown",
   "source": [
    "### Simule o sistema com degrau de 0.1 rad"
   ],
   "metadata": {}
  },
  {
   "cell_type": "markdown",
   "source": [
    "![](./lista_2/graficos/7b.svg)"
   ],
   "metadata": {}
  },
  {
   "cell_type": "markdown",
   "source": [
    "Conforme desejado, o estado $\\theta$ agora rastreia a entrada $r$ com erro nulo ao degrau"
   ],
   "metadata": {}
  },
  {
   "cell_type": "markdown",
   "source": [
    "## Projetar e simular dois reguladores diferentes projetados via LQR, listados abaixo."
   ],
   "metadata": {}
  },
  {
   "cell_type": "markdown",
   "source": [
    "O modelo do controlador LQR é o mesmo do controlador por alocação de polos desenvolvido acima mudando apenas o método de escolha do ganho/polos."
   ],
   "metadata": {}
  },
  {
   "cell_type": "markdown",
   "source": [
    "### Estados e sinais de controle com pesos iguais"
   ],
   "metadata": {}
  },
  {
   "cell_type": "code",
   "execution_count": 10,
   "source": [
    "# LQR com pesos iguais\r\n",
    "Q1 = np.eye(3)\r\n",
    "R1 = np.array([[1]])\r\n",
    "K1, _, eig1 = control.lqr(A, B, Q1, R1)\r\n",
    "# Calculado também o ganho proporcional, não necessário para a entrada nula\r\n",
    "G1 = gain_scale(K1, A, B, C)\r\n",
    "\r\n",
    "print(\"Q1:\")\r\n",
    "print(Q1)\r\n",
    "print()\r\n",
    "\r\n",
    "print(\"R1:\")\r\n",
    "print(R1)\r\n",
    "print()\r\n",
    "\r\n",
    "print(\"K1:\")\r\n",
    "print(K1)\r\n",
    "print()\r\n",
    "\r\n",
    "print(\"G1:\")\r\n",
    "print(G1)\r\n",
    "print()\r\n",
    "\r\n",
    "print(\"polos:\")\r\n",
    "print(np.reshape(eig1, (3, 1)))\r\n"
   ],
   "outputs": [
    {
     "output_type": "stream",
     "name": "stdout",
     "text": [
      "Q1:\n",
      "[[1. 0. 0.]\n",
      " [0. 1. 0.]\n",
      " [0. 0. 1.]]\n",
      "\n",
      "R1:\n",
      "[[1]]\n",
      "\n",
      "K1:\n",
      "[[ 0.6423 -0.9274 -1.    ]]\n",
      "\n",
      "G1:\n",
      "[[-1.]]\n",
      "\n",
      "polos:\n",
      "[[-38.4769+0.j]\n",
      " [ -4.8481+0.j]\n",
      " [ -0.9614+0.j]]\n"
     ]
    }
   ],
   "metadata": {}
  },
  {
   "cell_type": "markdown",
   "source": [
    "A resposta no tempo do sistema, mostrada abaixo, mostra que há uma resposta superamortecida. O pico de uso do atuador é de aproximadamente -0.46 rad."
   ],
   "metadata": {}
  },
  {
   "cell_type": "markdown",
   "source": [
    "![](./lista_2/graficos/8a.svg)"
   ],
   "metadata": {}
  },
  {
   "cell_type": "markdown",
   "source": [
    "### Um ajuste que poupa (reduz) o uso do atuador (profundor)"
   ],
   "metadata": {}
  },
  {
   "cell_type": "code",
   "execution_count": 11,
   "source": [
    "# LQR com pesos variáveis, focando em baixo uso de atuador\r\n",
    "# Optado por diminuir também a importância dos estados não rastreados\r\n",
    "Q2 = np.array([[0.1, 0, 0], [0, 0.1, 0], [0, 0, 1]])\r\n",
    "R2 = np.array([[10]])\r\n",
    "K2, _, eig2 = control.lqr(A, B, Q2, R2)\r\n",
    "G2 = gain_scale(K2, A, B, C)\r\n",
    "\r\n",
    "print(\"Q2:\")\r\n",
    "print(Q2)\r\n",
    "print()\r\n",
    "\r\n",
    "print(\"R2:\")\r\n",
    "print(R2)\r\n",
    "print()\r\n",
    "\r\n",
    "print(\"K2:\")\r\n",
    "print(K2)\r\n",
    "print()\r\n",
    "\r\n",
    "print(\"G2:\")\r\n",
    "print(G2)\r\n",
    "print()\r\n",
    "\r\n",
    "print(\"polos:\")\r\n",
    "print(np.reshape(eig2, (3, 1)))\r\n"
   ],
   "outputs": [
    {
     "output_type": "stream",
     "name": "stdout",
     "text": [
      "Q2:\n",
      "[[0.1 0.  0. ]\n",
      " [0.  0.1 0. ]\n",
      " [0.  0.  1. ]]\n",
      "\n",
      "R2:\n",
      "[[10]]\n",
      "\n",
      "K2:\n",
      "[[ 0.2573 -0.0656 -0.3162]]\n",
      "\n",
      "G2:\n",
      "[[-0.3162]]\n",
      "\n",
      "polos:\n",
      "[[-4.5892+5.066j]\n",
      " [-4.5892-5.066j]\n",
      " [-1.2137+0.j   ]]\n"
     ]
    }
   ],
   "metadata": {}
  },
  {
   "cell_type": "markdown",
   "source": [
    "Conforme desejado, o segundo controlador apresenta menor uso do atuador (pico sai de -0.46 a -0.16). Entretanto, esse baixo uso do atuador tem como consequência adversa uma piora do comportamento transiente do sistema. $\\theta$ e $q$ iniciamnete se distanciam do valor estável, devido a forças da dinâmica passiva da planta superiores à força do atuador ($\\alpha$ alto gera momento alto)."
   ],
   "metadata": {}
  },
  {
   "cell_type": "markdown",
   "source": [
    "![](./lista_2/graficos/8b.svg)"
   ],
   "metadata": {}
  },
  {
   "cell_type": "markdown",
   "source": [
    "# Lista 3"
   ],
   "metadata": {}
  },
  {
   "cell_type": "markdown",
   "source": [
    "## Determine a matriz de saída C para cada medida a seguir:"
   ],
   "metadata": {}
  },
  {
   "cell_type": "markdown",
   "source": [
    "### Ângulo de arfagem 𝜃"
   ],
   "metadata": {}
  },
  {
   "cell_type": "code",
   "execution_count": 12,
   "source": [
    "# y = theta\r\n",
    "C_theta = np.array([[0, 0, 1]])\r\n",
    "print(\"C_theta:\")\r\n",
    "print(C_theta)\r\n"
   ],
   "outputs": [
    {
     "output_type": "stream",
     "name": "stdout",
     "text": [
      "C_theta:\n",
      "[[0 0 1]]\n"
     ]
    }
   ],
   "metadata": {}
  },
  {
   "cell_type": "markdown",
   "source": [
    "### Ângulo  de  ataque 𝛼"
   ],
   "metadata": {}
  },
  {
   "cell_type": "code",
   "execution_count": 13,
   "source": [
    "# y = alpha\r\n",
    "C_alpha = np.array([[1, 0, 0]])\r\n",
    "print(\"C_alpha:\")\r\n",
    "print(C_alpha)\r\n"
   ],
   "outputs": [
    {
     "output_type": "stream",
     "name": "stdout",
     "text": [
      "C_alpha:\n",
      "[[1 0 0]]\n"
     ]
    }
   ],
   "metadata": {}
  },
  {
   "cell_type": "markdown",
   "source": [
    "### Direção de voo 𝛾"
   ],
   "metadata": {}
  },
  {
   "cell_type": "code",
   "execution_count": 14,
   "source": [
    "# y = gamma = theta - alpha\r\n",
    "C_gamma = np.array([[-1, 0, 1]])\r\n",
    "print(\"C_gamma:\")\r\n",
    "print(C_gamma)\r\n"
   ],
   "outputs": [
    {
     "output_type": "stream",
     "name": "stdout",
     "text": [
      "C_gamma:\n",
      "[[-1  0  1]]\n"
     ]
    }
   ],
   "metadata": {}
  },
  {
   "cell_type": "markdown",
   "source": [
    "## Avalie a observabilidade para cada um dos sensores separadamente."
   ],
   "metadata": {}
  },
  {
   "cell_type": "code",
   "execution_count": 16,
   "source": [
    "# Vetoriza a operação\r\n",
    "C_array = np.array([C_theta, C_alpha, C_gamma])\r\n",
    "# Calcula matrizes de observabilidade\r\n",
    "obs = np.block([[C_array], [c := C_array @ A], [c := c @ A]])\r\n",
    "# Verifica observabilidade\r\n",
    "# (posto da matriz de observabilidade igual a número de estados)\r\n",
    "print(np.linalg.matrix_rank(obs) == np.shape(A)[0])\r\n"
   ],
   "outputs": [
    {
     "output_type": "stream",
     "name": "stdout",
     "text": [
      "[ True False  True]\n"
     ]
    }
   ],
   "metadata": {}
  },
  {
   "cell_type": "markdown",
   "source": [
    "O sistema é observável para medições de ângulo de arfagem ou de direção do voo, mas não é plenamente observável com apenas medição do ângulo de ataque"
   ],
   "metadata": {}
  },
  {
   "cell_type": "markdown",
   "source": [
    "## Projete  um  observador  de  estados de  ordem  plena que  possua  um  tempo  de acomodação compatível com o controlador projetado na **Questão 7**. Considere que a saída do sistema é o ângulo de arfagem 𝜃."
   ],
   "metadata": {}
  },
  {
   "cell_type": "code",
   "execution_count": 40,
   "source": [
    "# dx_ = A @ x_ + B @ d + H @ (y - y_)\r\n",
    "# y_ = C * x_\r\n",
    "# x0_ = 0\r\n",
    "\r\n",
    "C = C_theta\r\n",
    "# polos convergindo de 2 vezes mais rápido que controlador\r\n",
    "polos_observador = np.linalg.eigvals(A - B @ K).real * 2\r\n",
    "# Ganho do observador\r\n",
    "H = control.acker(A.T, C.T, polos_observador).T\r\n",
    "\r\n",
    "print(\"H:\")\r\n",
    "print(H.T)"
   ],
   "outputs": [
    {
     "output_type": "stream",
     "name": "stdout",
     "text": [
      "H:\n",
      "[[ 20.1995 -61.3949  30.9364]]\n"
     ]
    }
   ],
   "metadata": {}
  },
  {
   "cell_type": "markdown",
   "source": [
    "## Modele o observador de estados no Simulink. Altere o controlador da Questão 7 para utilizar as informações provindas do observador de estados. Mostre imagem(ns) do sistema com planta e observador de estados. Assuma que as condições iniciais do observador são nulas (o  observador  não  conheceo  estado  inicial  da  planta).  Inclua  imagem(ns)  do  observador construído."
   ],
   "metadata": {}
  },
  {
   "cell_type": "markdown",
   "source": [
    "## Simule o sistema nos seguintes casos:\r\n",
    "\r\n",
    "> Mostrar gráficos contendo \r\n",
    "> - o vetor de estados (ou seja, dos 3 estados)\r\n",
    "> - um gráfico com sinal de controle 𝛿.\r\n",
    "> - 𝑦(𝑡)e 𝑦̂(𝑡) em um mesmo gráfico\r\n",
    "> - 𝑦(𝑡)−𝑦̂(𝑡)\r\n",
    "> \r\n",
    "> **Discuta os resultados**"
   ],
   "metadata": {}
  },
  {
   "cell_type": "markdown",
   "source": [
    "### Entrada nula"
   ],
   "metadata": {}
  },
  {
   "cell_type": "markdown",
   "source": [
    "### Entrada degrau de 0.1 rad"
   ],
   "metadata": {}
  },
  {
   "cell_type": "markdown",
   "source": [
    "## Altere o controlador para incluir um canal integral. Simule o sistema nos seguintes casos:\r\n",
    "\r\n",
    "> Mostrar gráficos contendo \r\n",
    "> - o vetor de estados (ou seja, dos 3 estados)\r\n",
    "> - um gráfico com sinal de controle 𝛿.\r\n",
    "> - 𝑦(𝑡)e 𝑦̂(𝑡) em um mesmo gráfico\r\n",
    "> - 𝑦(𝑡)−𝑦̂(𝑡)\r\n",
    "> \r\n",
    "> **Discuta os resultados**\r\n"
   ],
   "metadata": {}
  },
  {
   "cell_type": "code",
   "execution_count": 41,
   "source": [
    "n_out = C.shape[0]\r\n",
    "n_x = C.shape[1]\r\n",
    "n_in = B.shape[1]\r\n",
    "\r\n",
    "Aa = np.block([[A, np.zeros((n_x, n_out))], [-C, np.zeros((n_out, n_out))]])\r\n",
    "print(\"Aa:\")\r\n",
    "print(Aa)\r\n",
    "print()\r\n",
    "\r\n",
    "\r\n",
    "Ba = np.block([[B], [np.zeros((n_out, n_in))]])\r\n",
    "print(\"Ba:\")\r\n",
    "print(Ba)\r\n",
    "print()\r\n",
    "\r\n",
    "\r\n",
    "Ca = np.block([C, np.zeros((n_out, n_out))])\r\n",
    "print(\"Ca:\")\r\n",
    "print(Ca)\r\n",
    "print()\r\n"
   ],
   "outputs": [
    {
     "output_type": "stream",
     "name": "stdout",
     "text": [
      "Aa:\n",
      "[[ -4.1172   0.7781   0.       0.    ]\n",
      " [-33.8836  -3.5729   0.       0.    ]\n",
      " [  0.       1.       0.       0.    ]\n",
      " [  0.       0.      -1.       0.    ]]\n",
      "\n",
      "Ba:\n",
      "[[  0.5435]\n",
      " [-39.0847]\n",
      " [  0.    ]\n",
      " [  0.    ]]\n",
      "\n",
      "Ca:\n",
      "[[0. 0. 1. 0.]]\n",
      "\n"
     ]
    }
   ],
   "metadata": {}
  },
  {
   "cell_type": "code",
   "execution_count": 42,
   "source": [
    "# Aloca polos no sistema extendido\r\n",
    "polos_a = np.block([np.linalg.eigvals(A - B @ K), -11 * sigma])\r\n",
    "Ka = control.place(Aa, Ba, polos_a)\r\n",
    "\r\n",
    "print(\"Ka:\")\r\n",
    "print(Ka)\r\n",
    "print()\r\n",
    "print(polos_a)\r\n"
   ],
   "outputs": [
    {
     "output_type": "stream",
     "name": "stdout",
     "text": [
      "Ka:\n",
      "[[  8.2419   0.2702   0.9115 -19.7966]]\n",
      "\n",
      "[-16.0944+0.j      -1.6094+3.1416j  -1.6094-3.1416j  17.7038+0.j    ]\n"
     ]
    }
   ],
   "metadata": {}
  },
  {
   "cell_type": "markdown",
   "source": [
    "### Entrada nula"
   ],
   "metadata": {}
  },
  {
   "cell_type": "markdown",
   "source": [
    "### Entrada degrau de 0.1 rad"
   ],
   "metadata": {}
  }
 ],
 "metadata": {
  "orig_nbformat": 4,
  "language_info": {
   "name": "python",
   "version": "3.9.5",
   "mimetype": "text/x-python",
   "codemirror_mode": {
    "name": "ipython",
    "version": 3
   },
   "pygments_lexer": "ipython3",
   "nbconvert_exporter": "python",
   "file_extension": ".py"
  },
  "kernelspec": {
   "name": "python3",
   "display_name": "Python 3.9.5 64-bit ('main': conda)"
  },
  "interpreter": {
   "hash": "cc378375604d714125766041ac36b5bce9791f9b4638cf9ccf8affbc63e028c6"
  }
 },
 "nbformat": 4,
 "nbformat_minor": 2
}
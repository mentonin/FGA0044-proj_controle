{
 "cells": [
  {
   "cell_type": "markdown",
   "metadata": {},
   "source": [
    "# Setup"
   ]
  },
  {
   "cell_type": "code",
   "execution_count": 1,
   "metadata": {},
   "outputs": [],
   "source": [
    "import numpy as np\n",
    "import control\n",
    "\n",
    "np.set_printoptions(precision=4)\n"
   ]
  },
  {
   "cell_type": "markdown",
   "metadata": {},
   "source": [
    "# Condições do problema"
   ]
  },
  {
   "cell_type": "code",
   "execution_count": 2,
   "metadata": {},
   "outputs": [
    {
     "name": "stdout",
     "output_type": "stream",
     "text": [
      "A:\n",
      "[[ -4.1172   0.7781   0.    ]\n",
      " [-33.8836  -3.5729   0.    ]\n",
      " [  0.       1.       0.    ]]\n",
      "\n",
      "B:\n",
      "[[  0.5435]\n",
      " [-39.0847]\n",
      " [  0.    ]]\n",
      "\n",
      "x0:\n",
      "[[ 0.5]\n",
      " [ 0. ]\n",
      " [-0.1]]\n"
     ]
    }
   ],
   "source": [
    "# Modelo da Planta\n",
    "# x_ = A @ x + B @ d\n",
    "\n",
    "A = np.array([[-4.1172, 0.7781, 0.0], [-33.8836, -3.5729, 0.0], [0.0, 1.0, 0.0]])\n",
    "\n",
    "B = np.array([[0.5435, -39.0847, 0.0]]).T\n",
    "\n",
    "x0 = np.array([[0.5, 0, -0.1]]).T\n",
    "\n",
    "print(\"A:\")\n",
    "print(A)\n",
    "print()\n",
    "\n",
    "print(\"B:\")\n",
    "print(B)\n",
    "print()\n",
    "\n",
    "print(\"x0:\")\n",
    "print(x0)\n"
   ]
  },
  {
   "cell_type": "markdown",
   "metadata": {},
   "source": [
    "# Quais  são  os  autovalores  de  A?  O  sistema  é  estável,  instável  ou marginalmente estável? Subamortecido ou superamortecido?"
   ]
  },
  {
   "cell_type": "code",
   "execution_count": 3,
   "metadata": {},
   "outputs": [
    {
     "name": "stdout",
     "output_type": "stream",
     "text": [
      "polos:\n",
      "[[ 0.    +0.j    ]\n",
      " [-3.8451+5.1275j]\n",
      " [-3.8451-5.1275j]]\n"
     ]
    }
   ],
   "source": [
    "# Autovalores de A\n",
    "eigvals = np.linalg.eigvals(A)\n",
    "print(\"polos:\")\n",
    "print(np.reshape(eigvals, (3, 1)))\n"
   ]
  },
  {
   "cell_type": "markdown",
   "metadata": {},
   "source": [
    "Sistema marginalmente estável (2 polos no semiplano negativo e um polo na origem);\n",
    "\n",
    "Sistema subamortecido (par de polos complexos)."
   ]
  },
  {
   "cell_type": "markdown",
   "metadata": {},
   "source": [
    "# O sistema é controlável ou não? Justifique."
   ]
  },
  {
   "cell_type": "code",
   "execution_count": 4,
   "metadata": {},
   "outputs": [
    {
     "name": "stdout",
     "output_type": "stream",
     "text": [
      "True\n"
     ]
    }
   ],
   "source": [
    "# Matriz de controlabilidade\n",
    "R = np.concatenate([B, A @ B, A @ A @ B], axis=1).T\n",
    "print(np.linalg.matrix_rank(R) == A.shape[1])\n"
   ]
  },
  {
   "cell_type": "markdown",
   "metadata": {},
   "source": [
    "Sistema completamente controlável, pois o rank da matriz de controlabilidade é igual ao número de estados."
   ]
  },
  {
   "cell_type": "markdown",
   "metadata": {},
   "source": [
    "# Modele o sistema dinâmico no Simulink (MATLAB), Xcos (Scilab), ou similares"
   ]
  },
  {
   "cell_type": "markdown",
   "metadata": {},
   "source": [
    "Diagrama do sistema (em verde) e sistema de simulação implementado no software xcos (scilab). Em todos os modelos desse documento, os valores do projeto foram calculados utilizando o código desse documento e copiados para o modelo no software xcos conforme necessário."
   ]
  },
  {
   "cell_type": "markdown",
   "metadata": {},
   "source": [
    "![](./lista_2/diagramas/Planta.svg)"
   ]
  },
  {
   "cell_type": "markdown",
   "metadata": {},
   "source": [
    "# Simule o sistema nos seguintes casos"
   ]
  },
  {
   "cell_type": "markdown",
   "metadata": {},
   "source": [
    "## Entrada Nula"
   ]
  },
  {
   "cell_type": "markdown",
   "metadata": {},
   "source": [
    "A imagem abaixo apresenta a simulação da resposta no tempo do sistema para entrada nula.\n",
    "\n",
    "Nesse e em todos os próximos gráficos de resposta no tempo nesse documento, a linha laranja no gráfico superior representa a entrada na planta $\\delta$ (chamada de d no gráfico por limitações do software), enquanto as linhas verde, azul e ciano, respectivamente, representam os estados $\\alpha$, $q$, e $\\theta$ no gráfico de baixo. O eixo horizontal em todos os gráficos vai de 0 a 10 segundos, enquanto o eixo vertical foi ajustado automaticamente para destacar os detalhes do gráfico. Comparações de magnitude dever ser feitas com observação cuidadosa da escala de cada gráfico"
   ]
  },
  {
   "cell_type": "markdown",
   "metadata": {},
   "source": [
    "![](./lista_2/graficos/4a.svg)"
   ]
  },
  {
   "cell_type": "markdown",
   "metadata": {},
   "source": [
    "## Entrada degrau de 0.1 rad"
   ]
  },
  {
   "cell_type": "markdown",
   "metadata": {},
   "source": [
    "![](./lista_2/graficos/4b.svg)"
   ]
  },
  {
   "cell_type": "markdown",
   "metadata": {},
   "source": [
    "# Projete um regulador via alocação de polos (ou seja, calcule o vetor 𝑲) que forneça um sistema com as seguintes características de malha fechada\n",
    "- Sobressinal de 20%\n",
    "- Tempo de pico de 1 segundo"
   ]
  },
  {
   "cell_type": "code",
   "execution_count": 5,
   "metadata": {},
   "outputs": [
    {
     "name": "stdout",
     "output_type": "stream",
     "text": [
      "wd: 3.141592653589793\n",
      "sigma: -1.6094379124341\n"
     ]
    }
   ],
   "source": [
    "# Escolha de polos\n",
    "tp = 1\n",
    "PO = 0.20\n",
    "\n",
    "wd = np.pi * tp\n",
    "sigma = -abs(wd * np.log(0.2) / np.pi)\n",
    "\n",
    "print(f\"wd: {wd}\")\n",
    "print(f\"sigma: {sigma}\")\n"
   ]
  },
  {
   "cell_type": "code",
   "execution_count": 6,
   "metadata": {},
   "outputs": [
    {
     "name": "stdout",
     "output_type": "stream",
     "text": [
      "K:\n",
      "[[ 2.3849 -0.2642 -1.1182]]\n"
     ]
    }
   ],
   "source": [
    "# Ganho do feedback completo\n",
    "K = control.place(A, B, (sigma + wd * 1j, sigma - wd * 1j, 10 * sigma))\n",
    "print(\"K:\")\n",
    "print(K)\n"
   ]
  },
  {
   "cell_type": "code",
   "execution_count": 7,
   "metadata": {},
   "outputs": [
    {
     "name": "stdout",
     "output_type": "stream",
     "text": [
      "polos:\n",
      "[[-16.0944+0.j    ]\n",
      " [ -1.6094+3.1416j]\n",
      " [ -1.6094-3.1416j]]\n"
     ]
    }
   ],
   "source": [
    "# Autovalores resultantes (conferir alocação)\n",
    "eigvals = np.linalg.eigvals(A - B @ K)\n",
    "print(\"polos:\")\n",
    "print(np.reshape(eigvals, (3, 1)))\n"
   ]
  },
  {
   "cell_type": "markdown",
   "metadata": {},
   "source": [
    "# Implemente a alocação de polos no Simulink (MATLAB), Xcos (Scilab), ou similares. Assuma  inicialmente  que  o  controlador  tem  acesso  ao  vetor  de  estados  completo.  Inclua imagem(ns) do controlador construído."
   ]
  },
  {
   "cell_type": "markdown",
   "metadata": {},
   "source": [
    "Diagrama do controlador (em amarelo) conectado à planta (em verde)"
   ]
  },
  {
   "cell_type": "markdown",
   "metadata": {},
   "source": [
    "![](./lista_2/diagramas/FSF.svg)"
   ]
  },
  {
   "cell_type": "markdown",
   "metadata": {},
   "source": [
    "## Simule o sistema com entrada nula"
   ]
  },
  {
   "cell_type": "markdown",
   "metadata": {},
   "source": [
    "![](./lista_2/graficos/6a.svg)"
   ]
  },
  {
   "cell_type": "markdown",
   "metadata": {},
   "source": [
    "## Simule o sistema com entrada degrau de 0.1 rad"
   ]
  },
  {
   "cell_type": "markdown",
   "metadata": {},
   "source": [
    "![](./lista_2/graficos/6b.svg)"
   ]
  },
  {
   "cell_type": "markdown",
   "metadata": {},
   "source": [
    "O valor de sobressinal e o tempo de pico desejados não podem ser observados nos gráficos, pois as condições iniciais dominam o sistema durante o início da resposta transiente (os valores iniciais são muito maiores que a entrada). O sistema também manteve a estabilidade de $\\alpha$ e $q$, mas agora com $\\theta$ estável, não mais marginalmente estável. uma entrada degrau agora desloca $\\theta$, não $q$ e $\\alpha$, para um degrau;"
   ]
  },
  {
   "cell_type": "markdown",
   "metadata": {},
   "source": [
    "# Altere controlador para que se transforme em um rastreador com erro ao degrau nulo  em  regime  permanente.  O  sinal  de  entrada  define  o  ângulo  de  arfagem  𝜃  desejado."
   ]
  },
  {
   "cell_type": "markdown",
   "metadata": {},
   "source": [
    "O modelo de rastreador é uma modificação simples do modelo anterior, adicionando apenas um ganho proporcional $G$ à entrada de referência $r$. O diagrama completo pode ser visto na imagem abaixo, enquanto o cálculo do ganho é realizado em código python."
   ]
  },
  {
   "cell_type": "markdown",
   "metadata": {},
   "source": [
    "![](./lista_2/diagramas/fsf_g.svg)"
   ]
  },
  {
   "cell_type": "code",
   "execution_count": 9,
   "metadata": {},
   "outputs": [],
   "source": [
    "# Função para calcular o ganho proporcional\n",
    "def gain_scale(k, a, b, c):\n",
    "    \"\"\"\n",
    "    Calcula o ganho proporcional da referência para um rastreador com feedback completo\n",
    "\n",
    "    Modelo:\n",
    "    dx = Ax + Bu\n",
    "    y  = Cx\n",
    "    u = Gr - Kx\n",
    "\n",
    "    Método:\n",
    "    https://www.control.utoronto.ca/people/profs/kwong/ece410/2008/notes/chap5.pdf\n",
    "    G = [K I] * [[A B], [C 0]]^(-1) * [0 I]'\n",
    "    \"\"\"\n",
    "\n",
    "    o = np.zeros_like(c).T\n",
    "    i = np.eye(c.shape[0])\n",
    "\n",
    "    m1 = np.block([k, i])\n",
    "    m2 = np.linalg.inv(np.block([[a, b], [c, 0 * i]]))\n",
    "    m3 = np.block([[o], [i]])\n",
    "\n",
    "    g = m1 @ m2 @ m3\n",
    "    return g\n"
   ]
  },
  {
   "cell_type": "code",
   "execution_count": 10,
   "metadata": {},
   "outputs": [
    {
     "name": "stdout",
     "output_type": "stream",
     "text": [
      "G:\n",
      "[[-1.1182]]\n"
     ]
    }
   ],
   "source": [
    "# Encontra o ganho proporcional\n",
    "C = np.array([[0, 0, 1]])  # Rastreia theta\n",
    "G = gain_scale(K, A, B, np.array([[0, 0, 1]]))\n",
    "print(\"G:\")\n",
    "print(G)\n"
   ]
  },
  {
   "cell_type": "markdown",
   "metadata": {},
   "source": [
    "## Simule o sistema com entrada nula"
   ]
  },
  {
   "cell_type": "markdown",
   "metadata": {},
   "source": [
    "![](./lista_2/graficos/7a.svg)"
   ]
  },
  {
   "cell_type": "markdown",
   "metadata": {},
   "source": [
    "## Simule o sistema com degrau de 0.1 rad"
   ]
  },
  {
   "cell_type": "markdown",
   "metadata": {},
   "source": [
    "![](./lista_2/graficos/7b.svg)"
   ]
  },
  {
   "cell_type": "markdown",
   "metadata": {},
   "source": [
    "Conforme desejado, o estado $\\theta$ agora rastreia a entrada $r$ com erro nulo ao degrau"
   ]
  },
  {
   "cell_type": "markdown",
   "metadata": {},
   "source": [
    "# Projetar e simular dois reguladores diferentes projetados via LQR, listados abaixo."
   ]
  },
  {
   "cell_type": "markdown",
   "metadata": {},
   "source": [
    "O modelo do controlador LQR é o mesmo do controlador por alocação de polos desenvolvido acima mudando apenas o método de escolha do ganho/polos."
   ]
  },
  {
   "cell_type": "markdown",
   "metadata": {},
   "source": [
    "## Estados e sinais de controle com pesos iguais"
   ]
  },
  {
   "cell_type": "code",
   "execution_count": 11,
   "metadata": {},
   "outputs": [
    {
     "name": "stdout",
     "output_type": "stream",
     "text": [
      "Q1:\n",
      "[[1. 0. 0.]\n",
      " [0. 1. 0.]\n",
      " [0. 0. 1.]]\n",
      "\n",
      "R1:\n",
      "[[1]]\n",
      "\n",
      "K1:\n",
      "[[ 0.6423 -0.9274 -1.    ]]\n",
      "\n",
      "G1:\n",
      "[[-1.]]\n",
      "\n",
      "polos:\n",
      "[[-38.4769+0.j]\n",
      " [ -4.8481+0.j]\n",
      " [ -0.9614+0.j]]\n"
     ]
    }
   ],
   "source": [
    "# LQR com pesos iguais\n",
    "Q1 = np.eye(3)\n",
    "R1 = np.array([[1]])\n",
    "K1, _, eig1 = control.lqr(A, B, Q1, R1)\n",
    "# Calculado também o ganho proporcional, não necessário para a entrada nula\n",
    "G1 = gain_scale(K1, A, B, C)\n",
    "\n",
    "print(\"Q1:\")\n",
    "print(Q1)\n",
    "print()\n",
    "\n",
    "print(\"R1:\")\n",
    "print(R1)\n",
    "print()\n",
    "\n",
    "print(\"K1:\")\n",
    "print(K1)\n",
    "print()\n",
    "\n",
    "print(\"G1:\")\n",
    "print(G1)\n",
    "print()\n",
    "\n",
    "print(\"polos:\")\n",
    "print(np.reshape(eig1, (3, 1)))\n"
   ]
  },
  {
   "cell_type": "markdown",
   "metadata": {},
   "source": [
    "A resposta no tempo do sistema, mostrada abaixo, mostra que há uma resposta superamortecida. O pico de uso do atuador é de aproximadamente -0.46 rad."
   ]
  },
  {
   "cell_type": "markdown",
   "metadata": {},
   "source": [
    "![](./lista_2/graficos/8a.svg)"
   ]
  },
  {
   "cell_type": "markdown",
   "metadata": {},
   "source": [
    "## Um ajuste que poupa (reduz) o uso do atuador (profundor)"
   ]
  },
  {
   "cell_type": "code",
   "execution_count": 12,
   "metadata": {},
   "outputs": [
    {
     "name": "stdout",
     "output_type": "stream",
     "text": [
      "Q2:\n",
      "[[0.1 0.  0. ]\n",
      " [0.  0.1 0. ]\n",
      " [0.  0.  1. ]]\n",
      "\n",
      "R2:\n",
      "[[10]]\n",
      "\n",
      "K2:\n",
      "[[ 0.2573 -0.0656 -0.3162]]\n",
      "\n",
      "G2:\n",
      "[[-0.3162]]\n",
      "\n",
      "polos:\n",
      "[[-4.5892+5.066j]\n",
      " [-4.5892-5.066j]\n",
      " [-1.2137+0.j   ]]\n"
     ]
    }
   ],
   "source": [
    "# LQR com pesos variáveis, focando em baixo uso de atuador\n",
    "# Optado por diminuir também a importância dos estados não rastreados\n",
    "Q2 = np.array([[0.1, 0, 0], [0, 0.1, 0], [0, 0, 1]])\n",
    "R2 = np.array([[10]])\n",
    "K2, _, eig2 = control.lqr(A, B, Q2, R2)\n",
    "G2 = gain_scale(K2, A, B, C)\n",
    "\n",
    "print(\"Q2:\")\n",
    "print(Q2)\n",
    "print()\n",
    "\n",
    "print(\"R2:\")\n",
    "print(R2)\n",
    "print()\n",
    "\n",
    "print(\"K2:\")\n",
    "print(K2)\n",
    "print()\n",
    "\n",
    "print(\"G2:\")\n",
    "print(G2)\n",
    "print()\n",
    "\n",
    "print(\"polos:\")\n",
    "print(np.reshape(eig2, (3, 1)))\n"
   ]
  },
  {
   "cell_type": "markdown",
   "metadata": {},
   "source": [
    "Conforme desejado, o segundo controlador apresenta menor uso do atuador (pico sai de -0.46 a -0.16). Entretanto, esse baixo uso do atuador tem como consequência adversa uma piora do comportamento transiente do sistema. $\\theta$ e $q$ iniciamnete se distanciam do valor estável, devido a forças da dinâmica passiva da planta superiores à força do atuador ($\\alpha$ alto gera momento alto)."
   ]
  },
  {
   "cell_type": "markdown",
   "metadata": {},
   "source": [
    "![](./lista_2/graficos/8b.svg)"
   ]
  }
 ],
 "metadata": {
  "interpreter": {
   "hash": "cc378375604d714125766041ac36b5bce9791f9b4638cf9ccf8affbc63e028c6"
  },
  "kernelspec": {
   "display_name": "Python 3.9.7 64-bit ('main': conda)",
   "name": "python3"
  },
  "language_info": {
   "codemirror_mode": {
    "name": "ipython",
    "version": 3
   },
   "file_extension": ".py",
   "mimetype": "text/x-python",
   "name": "python",
   "nbconvert_exporter": "python",
   "pygments_lexer": "ipython3",
   "version": "3.9.7"
  },
  "orig_nbformat": 4
 },
 "nbformat": 4,
 "nbformat_minor": 2
}
